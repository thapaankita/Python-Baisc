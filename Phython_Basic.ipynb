{
  "nbformat": 4,
  "nbformat_minor": 0,
  "metadata": {
    "colab": {
      "provenance": []
    },
    "kernelspec": {
      "name": "python3",
      "display_name": "Python 3"
    },
    "language_info": {
      "name": "python"
    }
  },
  "cells": [
    {
      "cell_type": "markdown",
      "source": [
        "# Section 1: Basic Questions\n"
      ],
      "metadata": {
        "id": "ifqP8Tjg-6Tr"
      }
    },
    {
      "cell_type": "markdown",
      "source": [
        "1. ***What is Python, and why is it popular?***\n",
        "   - Python is a high-level, general-purpose programming language known for its simple and easy-to-read syntax.Python is used for a wide variety of applications such as web development, data analysis, artificial intelligence, machine learning, automation, and more.\n",
        "\n",
        "- **It is popular because:**\n",
        "   - Easy to Learn and Use : Python's code looks like English, making it beginner-friendly.\n",
        "   -  Versatile - It can be used for web apps, games, data science, AI, and more.\n",
        "   - Large Library Support - Python has a huge collection of built-in libraries and tools.\n",
        "   - Strong Community - Python has a large and active community for support and resources.\n",
        "\n",
        "2. ***What is an interpreter in Python?***\n",
        "   - An interpreter in Python is a program that reads and executes Python code line by line. Unlike a compiler (which translates the whole program at once), the Python interpreter processes your code one statement at a time, which makes debugging and testing easier.\n",
        "\n",
        "3. ***What are pre-defined keywords in Python?***\n",
        "   - Keywords in Python are reserved words that have special meanings and cannot be used as variable names, function names, or identifiers.These keywords are predefined by the Python language and are used to define syntax and structure, such as loops, conditions, functions, etc.\n",
        "\n",
        "4. ***Can keywords be used as variable names?***\n",
        "   - No, keywords cannot be used as variable names in Python because they are reserved words that have special meanings in the language. Using them as variable names will cause an error.\n",
        "\n",
        "5. ***What is mutability in Python?***\n",
        "   - Mutability in Python refers to an object's ability to change its value after it has been created. If an object can be modified, it is called mutable. If it cannot be changed, it is called immutable.  \n",
        "\n",
        "6. ***Why are lists mutable, but tuples are immutable?***\n",
        "   - In Python, lists are mutable because you can change, add, or remove items after the list is created. This allows flexibility when working with collections of data.\n",
        "  \n",
        "  - On the other hand, tuples are immutable, meaning their elements cannot be changed once they are created. This makes tuples faster, safer, and more memory-efficient, especially when storing fixed or constant data.\n",
        "\n",
        "7. ***What is the difference between “==” and “is” operators in Python?***\n",
        "   - In phyton,== is the equality operator. It checks whether two variables have the same value, regardless of where they are stored in memory.On the other hand is is the identity operator. It checks whether two variables refer to the exact same object in memory.\n",
        "\n",
        "8. ***What are logical operators in Python?***\n",
        "   - Logical operators in Python are used to perform logical operations on boolean values (True or False). They are commonly used in decision-making and conditional statements.\n",
        "\n",
        "9. ***What is type casting in Python?***\n",
        "   - Type casting in Python is the process of converting one data type into another. For example, you can convert an integer into a string, a float into an integer, and so on. Python provides built-in functions like int(), float(), str(), etc., to perform type casting.\n",
        "\n",
        "10. ***What is the difference between implicit and explicit type casting?***\n",
        "    - Implicit type casting is done automatically by Python when it converts one data type to another during operations (e.g., int to float).\n",
        "\n",
        "    - Explicit type casting is done manually by the programmer using functions like int(), float(), or str() to convert data types.\n",
        "\n",
        "11. ***What is the purpose of conditional statements in Python?***\n",
        "    - The purpose of conditional statements in Python is to control the flow of a program by making decisions based on certain conditions. They allow the program to execute specific blocks of code only when a condition is True .Common conditional statements in Python include if, elif, and else.\n",
        "\n",
        "12. ***How does the elif statement work?***\n",
        "    - The elif (short for else if) statement in Python is used to check multiple conditions after an initial if statement. If the if condition is false, Python checks the elif condition. It only runs the block under the first True condition and skips the rest.\n",
        "\n",
        "13. ***What is the difference between for and while loops?***\n",
        "    - A for loop is used when you want to iterate over a sequence (like a list, string, or range) for a known number of times.\n",
        "\n",
        "    - A while loop is used when you want to repeat a block of code as long as a condition is true, and you don’t always know how many times it will run.\n",
        "\n",
        "14. ***Describe a scenario where a while loop is more suitable than a for loop.***\n",
        "   - A while loop is more suitable when you don’t know in advance how many times the loop needs to run. It’s useful when the loop depends on a condition that can change during execution.\n",
        "\n",
        "- **User Login Attempt:**  \n",
        "You want to keep asking the user for a correct password until they enter it correctly.  \n",
        "Since you don't know how many attempts the user will take, a while loop is the best choice.\n",
        "\n",
        "\n",
        "\n",
        "\n",
        "\n",
        "     \n",
        "\n",
        "\n"
      ],
      "metadata": {
        "id": "6KEiV2FJ_zCL"
      }
    },
    {
      "cell_type": "code",
      "source": [
        "password = \"\"\n",
        "while password != \"python123\":\n",
        "    password = input(\"Enter your password: \")\n",
        "print(\"Access granted.\")"
      ],
      "metadata": {
        "id": "LU7JzC3TmcYv",
        "colab": {
          "base_uri": "https://localhost:8080/"
        },
        "outputId": "d211cf44-2ddd-4c81-c8be-9bdecaf54a17"
      },
      "execution_count": null,
      "outputs": [
        {
          "output_type": "stream",
          "name": "stdout",
          "text": [
            "Enter your password: python123\n",
            "Access granted.\n"
          ]
        }
      ]
    },
    {
      "cell_type": "markdown",
      "source": [
        "#Section: 2 Practical questions"
      ],
      "metadata": {
        "id": "B7sacwIZ_b-1"
      }
    },
    {
      "cell_type": "markdown",
      "source": [
        "1. ***Write a Python program to print \"Hello, World!\"***\n",
        "\n",
        "   Answer:This is a basic Python program that prints a message to the screen using the print() function."
      ],
      "metadata": {
        "id": "QvqV8Enl_-TM"
      }
    },
    {
      "cell_type": "code",
      "source": [
        "print(\"Hello, World\")\n"
      ],
      "metadata": {
        "id": "I8rFqP18A5PY",
        "colab": {
          "base_uri": "https://localhost:8080/"
        },
        "outputId": "aec1c0a7-9fa2-4b82-dde2-2422ab223ea7"
      },
      "execution_count": null,
      "outputs": [
        {
          "output_type": "stream",
          "name": "stdout",
          "text": [
            "Hello, World\n"
          ]
        }
      ]
    },
    {
      "cell_type": "markdown",
      "source": [
        "   2. ***Write a Python program that displays your name and age.***\n"
      ],
      "metadata": {
        "id": "cW_LHKI-Hlds"
      }
    },
    {
      "cell_type": "code",
      "source": [
        "# Program to display my name and age\n",
        "\n",
        "name = \"Ankita Thapa\"\n",
        "age = 23\n",
        "\n",
        "print(\"Hello! My name is\", name)\n",
        "print(\"I am\", age, \"years old.\")\n"
      ],
      "metadata": {
        "colab": {
          "base_uri": "https://localhost:8080/"
        },
        "id": "ztf4Xq6IWNVa",
        "outputId": "7bd9e1e4-f61b-4831-d211-32ceafb0da56"
      },
      "execution_count": null,
      "outputs": [
        {
          "output_type": "stream",
          "name": "stdout",
          "text": [
            "Hello! My name is Ankita Thapa\n",
            "I am 23 years old.\n"
          ]
        }
      ]
    },
    {
      "cell_type": "markdown",
      "source": [
        "   3. ***Write code to print all the pre-defined keywords in Python using the keyword library.***    "
      ],
      "metadata": {
        "id": "NkueyCXNZ0m8"
      }
    },
    {
      "cell_type": "code",
      "source": [
        "# Program to print all Python keywords using the keyword module\n",
        "\n",
        "import keyword\n",
        "\n",
        "print(\"Python Keywords:\")\n",
        "print(keyword.kwlist)\n"
      ],
      "metadata": {
        "colab": {
          "base_uri": "https://localhost:8080/"
        },
        "id": "_doD66CWbpJQ",
        "outputId": "f57d6913-1784-4c84-f6b9-03ccbfc6d006"
      },
      "execution_count": null,
      "outputs": [
        {
          "output_type": "stream",
          "name": "stdout",
          "text": [
            "Python Keywords:\n",
            "['False', 'None', 'True', 'and', 'as', 'assert', 'async', 'await', 'break', 'class', 'continue', 'def', 'del', 'elif', 'else', 'except', 'finally', 'for', 'from', 'global', 'if', 'import', 'in', 'is', 'lambda', 'nonlocal', 'not', 'or', 'pass', 'raise', 'return', 'try', 'while', 'with', 'yield']\n"
          ]
        }
      ]
    },
    {
      "cell_type": "code",
      "source": [],
      "metadata": {
        "id": "_Hx990yIfrGg"
      },
      "execution_count": null,
      "outputs": []
    },
    {
      "cell_type": "markdown",
      "source": [
        "   4. ***Write a program that checks if a given word is a Python keyword.***"
      ],
      "metadata": {
        "id": "8FwujRK7b7lF"
      }
    },
    {
      "cell_type": "code",
      "source": [
        "# Checking if a word is a Python keyword\n",
        "\n",
        "import keyword\n",
        "\n",
        "word = input(\"Type any word: \")\n",
        "\n",
        "if keyword.iskeyword(word):\n",
        "    print(word, \"is a Python keyword.\")\n",
        "else:\n",
        "    print(word, \"is not a Python keyword.\")\n"
      ],
      "metadata": {
        "colab": {
          "base_uri": "https://localhost:8080/"
        },
        "id": "uooQJPCE0ijL",
        "outputId": "ed468beb-0409-44e3-d076-8c1fceb40d2e"
      },
      "execution_count": null,
      "outputs": [
        {
          "output_type": "stream",
          "name": "stdout",
          "text": [
            "Type any word: if\n",
            "if is a Python keyword.\n"
          ]
        }
      ]
    },
    {
      "cell_type": "markdown",
      "source": [
        "   5. ***Create a list and tuple in Python, and demonstrate how attempting to change an element works differently\n",
        "for each.***"
      ],
      "metadata": {
        "id": "gEL4N9FFomu2"
      }
    },
    {
      "cell_type": "code",
      "source": [
        "# Making a list and a tuple\n",
        "\n",
        "my_list = [10, 20, 30]\n",
        "my_tuple = (10, 20, 30)\n",
        "\n",
        "# Changing an element in the list\n",
        "my_list[1] = 99\n",
        "print(\"Updated list:\", my_list)\n",
        "\n",
        "# Trying to change an element in the tuple\n",
        "try:\n",
        "    my_tuple[1] = 99\n",
        "except TypeError:\n",
        "    print(\"You can't change a tuple. It's not allowed.\")\n"
      ],
      "metadata": {
        "colab": {
          "base_uri": "https://localhost:8080/"
        },
        "id": "Enps_Nuj1Pjd",
        "outputId": "ab77aa53-9252-4350-edca-ea68cc4730bb"
      },
      "execution_count": null,
      "outputs": [
        {
          "output_type": "stream",
          "name": "stdout",
          "text": [
            "Updated list: [10, 99, 30]\n",
            "You can't change a tuple. It's not allowed.\n"
          ]
        }
      ]
    },
    {
      "cell_type": "markdown",
      "source": [
        "   6. ***Write a function to demonstrate the behavior of mutable and immutable arguments.***"
      ],
      "metadata": {
        "id": "oRiAIT5QrDsD"
      }
    },
    {
      "cell_type": "code",
      "source": [
        "# Program to demonstrate mutable vs immutable arguments\n",
        "\n",
        "def modify_arguments(num, my_list):\n",
        "    num += 5           # Attempt to modify immutable object (int)\n",
        "    my_list.append(99) # Modify mutable object (list)\n",
        "\n",
        "# Immutable argument\n",
        "x = 10\n",
        "\n",
        "# Mutable argument\n",
        "lst = [1, 2, 3]\n",
        "\n",
        "modify_arguments(x, lst)\n",
        "\n",
        "print(\"After function call:\")\n",
        "print(\"x =\", x)        # x is still 10 — int is immutable\n",
        "print(\"lst =\", lst)    # lst is changed — list is mutable\n"
      ],
      "metadata": {
        "colab": {
          "base_uri": "https://localhost:8080/"
        },
        "id": "z0vn-IcmrbZ5",
        "outputId": "6b94f333-5200-486b-cd66-e0ebedf8c201"
      },
      "execution_count": null,
      "outputs": [
        {
          "output_type": "stream",
          "name": "stdout",
          "text": [
            "After function call:\n",
            "x = 10\n",
            "lst = [1, 2, 3, 99]\n"
          ]
        }
      ]
    },
    {
      "cell_type": "markdown",
      "source": [
        "   7. ***Write a program that performs basic arithmetic operations on two user-input numbers.***"
      ],
      "metadata": {
        "id": "exSyw4-OrfBu"
      }
    },
    {
      "cell_type": "code",
      "source": [
        "# Doing basic math on two numbers given by the user\n",
        "\n",
        "num1 = float(input(\"Enter the first number: \"))\n",
        "num2 = float(input(\"Enter the second number: \"))\n",
        "\n",
        "print(\"Addition:\", num1 + num2)\n",
        "print(\"Subtraction:\", num1 - num2)\n",
        "print(\"Multiplication:\", num1 * num2)\n",
        "\n",
        "if num2 != 0:\n",
        "    print(\"Division:\", num1 / num2)\n",
        "else:\n",
        "    print(\"Cannot divide by zero.\")\n"
      ],
      "metadata": {
        "colab": {
          "base_uri": "https://localhost:8080/"
        },
        "id": "DzC-ADax1v5w",
        "outputId": "5c7caaac-5c62-4a70-b0b0-2f6606da6f08"
      },
      "execution_count": null,
      "outputs": [
        {
          "output_type": "stream",
          "name": "stdout",
          "text": [
            "Enter the first number: 8\n",
            "Enter the second number: 2\n",
            "Addition: 10.0\n",
            "Subtraction: 6.0\n",
            "Multiplication: 16.0\n",
            "Division: 4.0\n"
          ]
        }
      ]
    },
    {
      "cell_type": "markdown",
      "source": [
        "   8. ***Write a program to demonstrate the use of logical operators.***"
      ],
      "metadata": {
        "id": "J05NEQGGsl_k"
      }
    },
    {
      "cell_type": "code",
      "source": [
        "# Program to demonstrate the use of logical operators\n",
        "\n",
        "a = True\n",
        "b = False\n",
        "\n",
        "# Logical AND\n",
        "print(\"a and b =\", a and b)\n",
        "\n",
        "# Logical OR\n",
        "print(\"a or b =\", a or b)\n",
        "\n",
        "# Logical NOT\n",
        "print(\"not a =\", not a)\n",
        "print(\"not b =\", not b)\n"
      ],
      "metadata": {
        "colab": {
          "base_uri": "https://localhost:8080/"
        },
        "id": "1J8kuBN-tDtg",
        "outputId": "70a3c866-5f6b-4eab-da1f-8a00d9e8fce9"
      },
      "execution_count": null,
      "outputs": [
        {
          "output_type": "stream",
          "name": "stdout",
          "text": [
            "a and b = False\n",
            "a or b = True\n",
            "not a = False\n",
            "not b = True\n"
          ]
        }
      ]
    },
    {
      "cell_type": "markdown",
      "source": [
        "   9. ***Write a Python program to convert user input from string to integer, float, and boolean types.***"
      ],
      "metadata": {
        "id": "hEqbznzOtHHW"
      }
    },
    {
      "cell_type": "code",
      "source": [
        "# Taking input from the user and converting it to other types\n",
        "\n",
        "user_input = input(\"Type something: \")\n",
        "\n",
        "# Trying to convert to integer\n",
        "try:\n",
        "    as_int = int(user_input)\n",
        "    print(\"As integer:\", as_int)\n",
        "except ValueError:\n",
        "    print(\"Can't turn it into an integer.\")\n",
        "\n",
        "# Trying to convert to float\n",
        "try:\n",
        "    as_float = float(user_input)\n",
        "    print(\"As float:\", as_float)\n",
        "except ValueError:\n",
        "    print(\"Can't turn it into a float.\")\n",
        "\n",
        "# Boolean conversion always works\n",
        "as_bool = bool(user_input)\n",
        "print(\"As boolean:\", as_bool)\n"
      ],
      "metadata": {
        "colab": {
          "base_uri": "https://localhost:8080/"
        },
        "id": "CLWsR0kL2LOK",
        "outputId": "a84f8952-7eb3-4d23-b9c8-5c0db1e633e6"
      },
      "execution_count": null,
      "outputs": [
        {
          "output_type": "stream",
          "name": "stdout",
          "text": [
            "Type something: 45\n",
            "As integer: 45\n",
            "As float: 45.0\n",
            "As boolean: True\n"
          ]
        }
      ]
    },
    {
      "cell_type": "markdown",
      "source": [
        "   10. ***Write code to demonstrate type casting with list elements.***"
      ],
      "metadata": {
        "id": "9HaO-gT1uGia"
      }
    },
    {
      "cell_type": "code",
      "source": [
        "# Program to demonstrate type casting with list elements\n",
        "\n",
        "# Original list of strings\n",
        "str_list = ['10', '20', '30']\n",
        "\n",
        "# Convert to list of integers\n",
        "int_list = [int(x) for x in str_list]\n",
        "print(\"Integer list:\", int_list)\n",
        "\n",
        "# Convert to list of floats\n",
        "float_list = [float(x) for x in str_list]\n",
        "print(\"Float list:\", float_list)\n"
      ],
      "metadata": {
        "colab": {
          "base_uri": "https://localhost:8080/"
        },
        "id": "W8F4BcVduqix",
        "outputId": "95b45836-5b0e-4a66-fcba-5529df0a4672"
      },
      "execution_count": null,
      "outputs": [
        {
          "output_type": "stream",
          "name": "stdout",
          "text": [
            "Integer list: [10, 20, 30]\n",
            "Float list: [10.0, 20.0, 30.0]\n"
          ]
        }
      ]
    },
    {
      "cell_type": "markdown",
      "source": [
        "   11. ***Write a program that checks if a number is positive, negative, or zero.***"
      ],
      "metadata": {
        "id": "g4CIbVdYutFi"
      }
    },
    {
      "cell_type": "code",
      "source": [
        "# Program to check if a number is positive, negative, or zero\n",
        "\n",
        "num = float(input(\"Enter a number: \"))\n",
        "\n",
        "if num > 0:\n",
        "    print(\"The number is positive.\")\n",
        "elif num < 0:\n",
        "    print(\"The number is negative.\")\n",
        "else:\n",
        "    print(\"The number is zero.\")\n"
      ],
      "metadata": {
        "colab": {
          "base_uri": "https://localhost:8080/"
        },
        "id": "tDvGDL0pvAGz",
        "outputId": "b4e592c8-841d-40c3-c349-2b69013f82fe"
      },
      "execution_count": null,
      "outputs": [
        {
          "output_type": "stream",
          "name": "stdout",
          "text": [
            "Enter a number: 7\n",
            "The number is positive.\n"
          ]
        }
      ]
    },
    {
      "cell_type": "markdown",
      "source": [
        "   12. ***Write a for loop to print numbers from 1 to 10.***"
      ],
      "metadata": {
        "id": "cVlHgLRBvEdK"
      }
    },
    {
      "cell_type": "code",
      "source": [
        "# Program to print numbers from 1 to 10 using a for loop\n",
        "\n",
        "for i in range(1, 11):\n",
        "    print(i)\n"
      ],
      "metadata": {
        "colab": {
          "base_uri": "https://localhost:8080/"
        },
        "id": "nhLCBpW9vaVe",
        "outputId": "0369e967-630a-4bfd-affb-76ea1e05adb5"
      },
      "execution_count": null,
      "outputs": [
        {
          "output_type": "stream",
          "name": "stdout",
          "text": [
            "1\n",
            "2\n",
            "3\n",
            "4\n",
            "5\n",
            "6\n",
            "7\n",
            "8\n",
            "9\n",
            "10\n"
          ]
        }
      ]
    },
    {
      "cell_type": "markdown",
      "source": [
        "   13. ***Write a Python program to find the sum of all even numbers between 1 and 50.***"
      ],
      "metadata": {
        "id": "iw1jb1_QwOFc"
      }
    },
    {
      "cell_type": "code",
      "source": [
        "# Adding all even numbers from 1 to 50\n",
        "\n",
        "total = 0\n",
        "\n",
        "for num in range(1, 51):\n",
        "    if num % 2 == 0:\n",
        "        total += num\n",
        "\n",
        "print(\"Sum of even numbers from 1 to 50 is:\", total)\n"
      ],
      "metadata": {
        "colab": {
          "base_uri": "https://localhost:8080/"
        },
        "id": "Wk79eILx2qkM",
        "outputId": "de9a638d-77b4-4efb-dd36-b55b3710908e"
      },
      "execution_count": null,
      "outputs": [
        {
          "output_type": "stream",
          "name": "stdout",
          "text": [
            "Sum of even numbers from 1 to 50 is: 650\n"
          ]
        }
      ]
    },
    {
      "cell_type": "markdown",
      "source": [
        "   14. ***Write a program to reverse a string using a while loop.***"
      ],
      "metadata": {
        "id": "xGdSLsmlwg4k"
      }
    },
    {
      "cell_type": "code",
      "source": [
        "# Reversing a string using a while loop\n",
        "\n",
        "text = input(\"Type any word or sentence: \")\n",
        "reversed_text = \"\"\n",
        "index = len(text) - 1\n",
        "\n",
        "while index >= 0:\n",
        "    reversed_text += text[index]\n",
        "    index -= 1\n",
        "\n",
        "print(\"Reversed:\", reversed_text)\n"
      ],
      "metadata": {
        "colab": {
          "base_uri": "https://localhost:8080/"
        },
        "id": "xhHWOrNK23am",
        "outputId": "b0d9b010-dc6f-468f-deee-de06f82ea404"
      },
      "execution_count": null,
      "outputs": [
        {
          "output_type": "stream",
          "name": "stdout",
          "text": [
            "Type any word or sentence: hello\n",
            "Reversed: olleh\n"
          ]
        }
      ]
    },
    {
      "cell_type": "markdown",
      "source": [
        "   15. ***Write a Python program to calculate the factorial of a number provided by the user using a while loop.***"
      ],
      "metadata": {
        "id": "11TYN9kkw50_"
      }
    },
    {
      "cell_type": "code",
      "source": [
        "# Finding factorial of a number using a while loop\n",
        "\n",
        "num = int(input(\"Enter a non-negative number: \"))\n",
        "fact = 1\n",
        "count = 1\n",
        "\n",
        "while count <= num:\n",
        "    fact *= count\n",
        "    count += 1\n",
        "\n",
        "print(\"Factorial of\", num, \"is:\", fact)\n"
      ],
      "metadata": {
        "colab": {
          "base_uri": "https://localhost:8080/"
        },
        "id": "QncCrBSL3LMW",
        "outputId": "891896f7-454b-4919-b32f-23a94dc581ec"
      },
      "execution_count": null,
      "outputs": [
        {
          "output_type": "stream",
          "name": "stdout",
          "text": [
            "Enter a non-negative number: 5\n",
            "Factorial of 5 is: 120\n"
          ]
        }
      ]
    },
    {
      "cell_type": "markdown",
      "source": [],
      "metadata": {
        "id": "M8FYgwGAt-E2"
      }
    },
    {
      "cell_type": "code",
      "execution_count": null,
      "metadata": {
        "id": "c2JucJPqGxkQ"
      },
      "outputs": [],
      "source": [
        "\n"
      ]
    }
  ]
}